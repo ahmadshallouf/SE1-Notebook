{
 "cells": [
  {
   "cell_type": "markdown",
   "metadata": {},
   "source": [
    "# Variables and Types\n",
    "\n",
    "\n",
    "\n",
    "Java is a strong typed language, which means variables need to be defined before we use them.\n",
    "\n",
    "\n",
    "## Primitive Datentypen\n",
    "In Java stehen Ihnen folgende primitive Dartentypen zur Verfügung:\n",
    "- byte (Nummer, 1 byte)\n",
    "- short (Nummer, 2 bytes)\n",
    "- int (Nummer, 4 bytes)\n",
    "- long (Nummer, 8 bytes)\n",
    "- float (Gleitkommazahl, 4 bytes)\n",
    "- double (Gleitkommazahl, 8 bytes)\n",
    "- char (Zeichen, 2 bytes)\n",
    "- boolean (wahr oder falsch, 1 byte)\n",
    "\n",
    "\n",
    "\n",
    "\n",
    "Obwohl Java eine objektorientierte Programmiersprache ist, sind nicht alle Typen Objekte. "
   ]
  },
  {
   "cell_type": "code",
   "execution_count": null,
   "metadata": {},
   "outputs": [],
   "source": [
    "int myNumber;\n",
    "myNumber = 5;\n",
    "myNumber"
   ]
  },
  {
   "cell_type": "markdown",
   "metadata": {},
   "source": [
    "Die beiden Ausdrücke können kombiniert werden."
   ]
  },
  {
   "cell_type": "code",
   "execution_count": null,
   "metadata": {},
   "outputs": [],
   "source": [
    "int myNumber2 = 5;\n",
    "myNumber2"
   ]
  },
  {
   "cell_type": "markdown",
   "metadata": {},
   "source": []
  }
 ],
 "metadata": {
  "kernelspec": {
   "display_name": "Java",
   "language": "java",
   "name": "java"
  },
  "language_info": {
   "codemirror_mode": "java",
   "file_extension": ".java",
   "mimetype": "text/x-java-source",
   "name": "Java",
   "pygments_lexer": "java",
   "version": "10.0.2+13"
  }
 },
 "nbformat": 4,
 "nbformat_minor": 2
}
