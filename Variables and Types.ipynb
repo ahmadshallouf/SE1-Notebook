{
 "cells": [
  {
   "cell_type": "markdown",
   "metadata": {},
   "source": [
    "# Variables and Types\n",
    "\n",
    "\n",
    "\n",
    "Java is a strong typed language, which means variables need to be defined before we use them.\n",
    "\n",
    "\n",
    "## Primitive Datentypen\n",
    "In Java stehen Ihnen folgende primitive Dartentypen zur Verfügung:\n",
    "- byte (Nummer, 1 byte)\n",
    "- short (Nummer, 2 bytes)\n",
    "- int (Nummer, 4 bytes)\n",
    "- long (Nummer, 8 bytes)\n",
    "- float (Gleitkommazahl, 4 bytes)\n",
    "- double (Gleitkommazahl, 8 bytes)\n",
    "- char (Zeichen, 2 bytes)\n",
    "- boolean (wahr oder falsch, 1 byte)\n",
    "\n",
    "\n",
    "\n",
    "\n",
    "Obwohl Java eine objektorientierte Programmiersprache ist, sind nicht alle Typen Objekte. "
   ]
  },
  {
   "cell_type": "code",
   "execution_count": 19,
   "metadata": {
    "scrolled": false
   },
   "outputs": [
    {
     "ename": "IllegalStateException",
     "evalue": "No result with key: 0",
     "output_type": "error",
     "traceback": [
      "\u001b[1m\u001b[31m---------------------------------------------------------------------------\u001b[0m",
      "\u001b[1m\u001b[31mjava.lang.IllegalStateException: No result with key: 0\u001b[0m",
      "\u001b[1m\u001b[31m\tat io.github.spencerpark.ijava.execution.IJavaExecutionControl.takeResult(IJavaExecutionControl.java:79)\u001b[0m",
      "\u001b[1m\u001b[31m\tat io.github.spencerpark.ijava.execution.CodeEvaluator.evalSingle(CodeEvaluator.java:78)\u001b[0m",
      "\u001b[1m\u001b[31m\tat io.github.spencerpark.ijava.execution.CodeEvaluator.eval(CodeEvaluator.java:122)\u001b[0m",
      "\u001b[1m\u001b[31m\tat io.github.spencerpark.ijava.JavaKernel.eval(JavaKernel.java:251)\u001b[0m",
      "\u001b[1m\u001b[31m\tat io.github.spencerpark.jupyter.kernel.BaseKernel.handleExecuteRequest(BaseKernel.java:303)\u001b[0m",
      "\u001b[1m\u001b[31m\tat io.github.spencerpark.jupyter.channels.ShellChannel.lambda$bind$16(ShellChannel.java:55)\u001b[0m",
      "\u001b[1m\u001b[31m\tat java.base/java.lang.Thread.run(Thread.java:844)\u001b[0m",
      "\u001b[1m\u001b[31m\tat io.github.spencerpark.jupyter.channels.Loop.run(Loop.java:44)\u001b[0m"
     ]
    }
   ],
   "source": [
    "int number;"
   ]
  },
  {
   "cell_type": "markdown",
   "metadata": {},
   "source": [
    "Die beiden Ausdrücke können kombiniert werden."
   ]
  },
  {
   "cell_type": "code",
   "execution_count": 18,
   "metadata": {},
   "outputs": [
    {
     "data": {
      "text/plain": [
       "5"
      ]
     },
     "execution_count": 18,
     "metadata": {},
     "output_type": "execute_result"
    }
   ],
   "source": [
    "int myNumber2 = 5;\n",
    "myNumber2"
   ]
  },
  {
   "cell_type": "code",
   "execution_count": null,
   "metadata": {},
   "outputs": [],
   "source": []
  }
 ],
 "metadata": {
  "kernelspec": {
   "display_name": "Java",
   "language": "java",
   "name": "java"
  },
  "language_info": {
   "codemirror_mode": "java",
   "file_extension": ".java",
   "mimetype": "text/x-java-source",
   "name": "Java",
   "pygments_lexer": "java",
   "version": "10.0.2+13"
  }
 },
 "nbformat": 4,
 "nbformat_minor": 2
}
