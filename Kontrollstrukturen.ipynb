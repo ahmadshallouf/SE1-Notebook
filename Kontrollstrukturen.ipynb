{
 "cells": [
  {
   "cell_type": "markdown",
   "metadata": {},
   "source": [
    "# Kontrollstrukturen in Java\n",
    "\n",
    "Die Ausführungsreihenfolge von Quelltext in Java wird hauptsächlich durch fünf Kontrollstrukturen beeinflusst:\n",
    "- Sequenz\n",
    "- Zusammengesetzter Befehl (auch: Funktion oder Methode)\n",
    "- Fallunterscheidung (`if` / `else`)\n",
    "- Schleife (`while` / `do-while` / `for`)\n",
    "- Auswahl (`switch`)"
   ]
  },
  {
   "cell_type": "markdown",
   "metadata": {},
   "source": [
    "## Sequenz\n",
    "Allgemein werden Programmbefehle sequentiell (nacheinander) ausgeführt. Der nachfolgende Quelltext schreibt nacheinander Wörter in die Ausgabe. Der Quelltext wird sequentiell ausgeführt."
   ]
  },
  {
   "cell_type": "code",
   "execution_count": null,
   "metadata": {},
   "outputs": [],
   "source": [
    "System.out.println(\"Das\");\n",
    "System.out.println(\"ist\");\n",
    "System.out.println(\"ein\");\n",
    "System.out.println(\"Beispieltext!\");"
   ]
  },
  {
   "cell_type": "markdown",
   "metadata": {},
   "source": [
    "## Zusammengesetzter Befehl\n",
    "Mehrere sequentielle Befehle können zu einem \"Zusammengesetzten Befehl\" zusammengefasst werden. Im folgenden Codebeispiel fassen wir die Ausgabe eines Beispieltextes in einem zusammengesetzen Befehl mit dem Namen `schreibeBeispieltext` zusammen. In Zeile 9 rufen wir den Befehl auf."
   ]
  },
  {
   "cell_type": "code",
   "execution_count": null,
   "metadata": {},
   "outputs": [],
   "source": [
    "void schreibeBeispieltext()\n",
    "{\n",
    "    System.out.println(\"Das\");\n",
    "    System.out.println(\"ist\");\n",
    "    System.out.println(\"ein\");\n",
    "    System.out.println(\"Beispieltext!\");\n",
    "}\n",
    "\n",
    "schreibeBeispieltext();"
   ]
  },
  {
   "cell_type": "markdown",
   "metadata": {},
   "source": [
    "## Fallunterscheidungen (mit Alternative)\n",
    "Mit Fallunterscheidungen kann Programmcode abhängig von einer bestimmten Bedingung ausgeführt werden."
   ]
  },
  {
   "cell_type": "code",
   "execution_count": null,
   "metadata": {},
   "outputs": [],
   "source": [
    "int x = 10;\n",
    "\n",
    "if (x > 5)\n",
    "{\n",
    "    System.out.println(\"x ist größer als 5 (Bedingung ist eingetroffen)\");\n",
    "}\n",
    "else\n",
    "{\n",
    "    System.out.println(\"x ist kleiner oder gleich 5 (die Bedingung ist nicht eingetroffen)\");\n",
    "}"
   ]
  },
  {
   "cell_type": "markdown",
   "metadata": {},
   "source": [
    "Die `if`-Bedingung kann auch ein Funktions- oder Methodenaufruf sein, der einen Wahrheitswert zurück gibt. Im folgenden Beispiel definieren wir eine Funktion, die prüft ob eine übergebene Zahl größer als 10 ist. Innerhalb der `if`-Bedingung rufen wir die Methode mit dem Wert 12 auf."
   ]
  },
  {
   "cell_type": "code",
   "execution_count": null,
   "metadata": {},
   "outputs": [],
   "source": [
    "boolean groesserZehn(int x)\n",
    "{\n",
    "    return x > 10;\n",
    "}\n",
    "\n",
    "if(groesserZehn(12))\n",
    "{\n",
    "    System.out.println(\"Bedingung ist eingetroffen!\");\n",
    "}"
   ]
  },
  {
   "cell_type": "markdown",
   "metadata": {},
   "source": [
    "Bedingungen können wir mit \"und\" `&&` (Konjunktion) und \"oder\" `||` (Disjunktion) kombinieren. Mit einem `!` können wir Bedingungen \"umgekehren\" (Negation). Wir lesen die Negation als \"nicht\"."
   ]
  },
  {
   "cell_type": "code",
   "execution_count": null,
   "metadata": {},
   "outputs": [],
   "source": [
    "int zahl = 15;\n",
    "\n",
    "// \"und\" (Konjunktion)\n",
    "if(groesserZehn(zahl) && zahl < 20)\n",
    "{\n",
    "    System.out.println(\"Konjunktionsbedingung stimmt: \"+ zahl + \"  ist größer als 10 und kleiner als 20\");\n",
    "}\n",
    "\n",
    "// \"oder\" (Disjunktion)\n",
    "if(zahl < 5 || zahl > 10)\n",
    "{\n",
    "    System.out.println(\"Disjunktionsbedingung stimmt: \"+zahl+\" ist kleiner als 5 oder größer als 10\");\n",
    "}\n",
    "\n",
    "// \"nicht\" (Negation)\n",
    "if(!groesserZehn(8))\n",
    "{\n",
    "    System.out.println(\"Negationsbedingung stimmt: 8 ist nicht größer als 10\");\n",
    "}"
   ]
  },
  {
   "cell_type": "markdown",
   "metadata": {},
   "source": [
    "## Schleife\n",
    "\n",
    "Mit Schleifen können wir einen Quelltextblock mehrfach ausführen. Die Anzahl der Wiederholungen muss nicht zur Übersetzungszeit feststehen (z.B. Zählschleife in Karel) sondern kann dabei auch erst zur Laufzeit bestimmt werden. Java bietet vier verschiedene Schleifentypen an:\n",
    "- `while`-Schleife\n",
    "- `do-while`-Schleife\n",
    "- `for`-Schleife\n",
    "- Erweiterte `for`-Schleife\n",
    "\n"
   ]
  },
  {
   "cell_type": "markdown",
   "metadata": {},
   "source": [
    "### `while`-Schleife\n",
    "Der Rumpf einer `while`-Schleife wird wiederholt ausgeführt solange die Schleifenbedingung wahr ist. Falls die Bedingung bereits am Anfang falsch ist, wird der Schleifenrumpf nicht ausgeführt (abweisend und kopfgesteuert). Die Schleifenbedingung wird vor jedem Durchlauf geprüft. Falls die Schleifenbedingung zu Beginn nicht zutrifft, wird der Schleifenrumpf nicht ausgeführt. Das folgende Bild veranschaulicht die Syntax und den Programmfluss einer `while`-Schleife:\n",
    "<img src=\"files/images/while.png\" width=\"300px\">"
   ]
  },
  {
   "cell_type": "code",
   "execution_count": null,
   "metadata": {},
   "outputs": [],
   "source": [
    "int x = 1;\n",
    "int summe = 0;\n",
    "while(summe < 100)\n",
    "{\n",
    "    summe += x; // Kurzschreibweise für: summe = summe + x;\n",
    "    System.out.println(\"x ist: \" + x + \" und die Summe ist: \"+summe);\n",
    "    x++; // Kurzschreibweise für: x = x + 1;\n",
    "}"
   ]
  },
  {
   "cell_type": "markdown",
   "metadata": {},
   "source": [
    "### `do-while`-Schleife\n",
    "Der Rumpf einer `do-while`-Schleife wird in jedem Fall einmal ausgeführt. Die Schleifenbedingung wird erst am Ende des Schleifenrumpfes geprüft (annehmend und fußgesteuert). Das folgende Bild veranschaulicht die Syntax und den Programmfluss einer `do-while`-Schleife:\n",
    "<img src=\"files/images/dowhile.png\" width=\"300px\">"
   ]
  },
  {
   "cell_type": "markdown",
   "metadata": {},
   "source": [
    "Der folgende Code fragt den Nutzer solange nach einer Passworteingabe bis das richtige Passwort eingegeben wurde. "
   ]
  },
  {
   "cell_type": "code",
   "execution_count": null,
   "metadata": {},
   "outputs": [],
   "source": [
    "Scanner s = new Scanner(System.in); // Zum Lesen der Nutzereingabe\n",
    "String PASSWORD = \"top_secret\";\n",
    "String eingabe = \"\";\n",
    "\n",
    "do {\n",
    "    System.out.print(\"Bitte Passwort eingeben: \");\n",
    "    eingabe = s.next(); // Liest die Passworteingabe vom Nutzer\n",
    "}\n",
    "while(!PASSWORD.equals(eingabe)); // Solange das Passwort nicht korrekt eingegeben wurde\n",
    "\n",
    "System.out.println(\"Das Passwort war richtig! Sie sind eingeloggt!\");"
   ]
  },
  {
   "cell_type": "markdown",
   "metadata": {},
   "source": [
    "### Zählschleife\n",
    "\n",
    "Die Syntax für Zählschleifen aus Karel in der folgenden Form gibt es in Java nicht:\n",
    "\n",
    "`\n",
    "repeat (5)\n",
    "{\n",
    "    moveForward();\n",
    "}\n",
    "turnAround();\n",
    "`\n",
    "\n",
    "Allerdings können wir in Java eine Zählschleife mit einer for-Schleife nachbilden."
   ]
  },
  {
   "cell_type": "code",
   "execution_count": null,
   "metadata": {},
   "outputs": [],
   "source": [
    "for(int i = 0; i < 5; i++)\n",
    "{\n",
    "    System.out.println(\"i hat in diesem Durchlauf den Wert: \" + i);\n",
    "}"
   ]
  },
  {
   "cell_type": "markdown",
   "metadata": {},
   "source": [
    "## Selektion\n",
    "Mit der ``switch``-Anweisung..."
   ]
  },
  {
   "cell_type": "code",
   "execution_count": null,
   "metadata": {},
   "outputs": [],
   "source": []
  }
 ],
 "metadata": {
  "kernelspec": {
   "display_name": "Java",
   "language": "java",
   "name": "java"
  },
  "language_info": {
   "codemirror_mode": "java",
   "file_extension": ".java",
   "mimetype": "text/x-java-source",
   "name": "Java",
   "pygments_lexer": "java",
   "version": "10.0.2+13"
  }
 },
 "nbformat": 4,
 "nbformat_minor": 2
}
