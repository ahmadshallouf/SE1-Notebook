{
 "cells": [
  {
   "cell_type": "markdown",
   "metadata": {},
   "source": [
    "# Kontrollstrukturen\n",
    "\n",
    "Die Abarbeitungsreihenfolge von Quelltext wird durch 5 Kontrollstrukturen beeinflusst:\n",
    "- Sequenz\n",
    "- Aufruf zusammengesetzter Befehle\n",
    "- Zählschleife\n",
    "- Fallunterscheidung\n",
    "- Bedingte Schleife (Woche 2)"
   ]
  },
  {
   "cell_type": "markdown",
   "metadata": {},
   "source": [
    "## Sequenz\n",
    "Allgemein werden Programmbefehle sequentiell (nacheinander) ausgeführt. Der nachfolgende Quelltext schreibt nacheinander Wörter in die Ausgabe. Der Quelltext wird sequentiell ausgeführt."
   ]
  },
  {
   "cell_type": "code",
   "execution_count": 1,
   "metadata": {},
   "outputs": [
    {
     "name": "stdout",
     "output_type": "stream",
     "text": [
      "Das\n",
      "ist\n",
      "ein\n",
      "Beispieltext!\n"
     ]
    }
   ],
   "source": [
    "System.out.println(\"Das\");\n",
    "System.out.println(\"ist\");\n",
    "System.out.println(\"ein\");\n",
    "System.out.println(\"Beispieltext!\");"
   ]
  },
  {
   "cell_type": "markdown",
   "metadata": {},
   "source": [
    "## Zusammengesetzte Befehle\n",
    "Mehrere sequentielle Befehle können zu einem \"Zusammengesetzten Befehl\" zusammengefasst werden. Im folgenden Codebeispiel fassen wir die Ausgabe eines Beispieltextes in einem zusammengesetzen Befehl mit dem Namen `schreibeBeispieltext` zusammen. In Zeile 9 rufen wir den Befehl auf."
   ]
  },
  {
   "cell_type": "code",
   "execution_count": 2,
   "metadata": {},
   "outputs": [
    {
     "name": "stdout",
     "output_type": "stream",
     "text": [
      "Das\n",
      "ist\n",
      "ein\n",
      "Beispieltext!\n"
     ]
    }
   ],
   "source": [
    "void schreibeBeispieltext()\n",
    "{\n",
    "    System.out.println(\"Das\");\n",
    "    System.out.println(\"ist\");\n",
    "    System.out.println(\"ein\");\n",
    "    System.out.println(\"Beispieltext!\");\n",
    "}\n",
    "\n",
    "schreibeBeispieltext();"
   ]
  },
  {
   "cell_type": "markdown",
   "metadata": {},
   "source": [
    "## Zählschleife\n",
    "\n",
    "Zählschleifen wie in Karel der folgenden Form gibt es in Java nicht:\n",
    "\n",
    "```\n",
    "repeat (5)\n",
    "{\n",
    "    moveForward();\n",
    "}\n",
    "turnAround();\n",
    "```\n",
    "\n",
    "In Java können wir eine Zählschleife mit einer for-Schleife nachbilden."
   ]
  },
  {
   "cell_type": "code",
   "execution_count": 12,
   "metadata": {},
   "outputs": [
    {
     "name": "stdout",
     "output_type": "stream",
     "text": [
      "i hat in diesem Durchlauf den Wert: 0\n",
      "i hat in diesem Durchlauf den Wert: 1\n",
      "i hat in diesem Durchlauf den Wert: 2\n",
      "i hat in diesem Durchlauf den Wert: 3\n",
      "i hat in diesem Durchlauf den Wert: 4\n"
     ]
    }
   ],
   "source": [
    "for(int i = 0; i < 5; i++)\n",
    "{\n",
    "    System.out.println(\"i hat in diesem Durchlauf den Wert: \" + i);\n",
    "}"
   ]
  },
  {
   "cell_type": "markdown",
   "metadata": {},
   "source": [
    "## Fallunterscheidungen (mit Alternative)\n",
    "Mit Fallunterscheidungen kann Programmcode abhängig von einer beestimmten Bedingung ausgeführt werden."
   ]
  },
  {
   "cell_type": "code",
   "execution_count": 13,
   "metadata": {},
   "outputs": [
    {
     "name": "stdout",
     "output_type": "stream",
     "text": [
      "x ist größer als 5 (Bedingung ist eingetroffen)\n"
     ]
    }
   ],
   "source": [
    "int x = 10;\n",
    "\n",
    "if (x > 5)\n",
    "{\n",
    "    System.out.println(\"x ist größer als 5 (Bedingung ist eingetroffen)\");\n",
    "}\n",
    "else\n",
    "{\n",
    "    System.out.println(\"x ist kleiner oder gleich 5 (die Bedingung ist nicht eingetroffen)\");\n",
    "}"
   ]
  },
  {
   "cell_type": "markdown",
   "metadata": {},
   "source": [
    "Die if-Bedingung kann auch ein Methodenaufruf sein, der einen Wahrheitswert zurück gibt. Im folgenden Beispiel definieren wir eine Hilfsmethode, die prüft ob eine übergebene Zahl größer ist als 10. In der if-Bedingung rufen wir die Methode mit dem Wert 12 auf."
   ]
  },
  {
   "cell_type": "code",
   "execution_count": 14,
   "metadata": {},
   "outputs": [
    {
     "name": "stdout",
     "output_type": "stream",
     "text": [
      "Bedingung ist eingetroffen!\n"
     ]
    }
   ],
   "source": [
    "boolean groesserZehn(int x)\n",
    "{\n",
    "    return x > 10;\n",
    "}\n",
    "\n",
    "if(groesserZehn(12))\n",
    "{\n",
    "    System.out.println(\"Bedingung ist eingetroffen!\");\n",
    "}"
   ]
  },
  {
   "cell_type": "markdown",
   "metadata": {},
   "source": [
    "Außerdem können Bedingungen mit \"und\" ``&&`` (Konjunktion) und \"oder\" ``||`` (Disjunktion) kombiniert werden. Mit einem ``!`` können Bedingungen \"umgekehrt\" (Negation) werden. Die Negation wird wie ein \"nicht\" gelesen."
   ]
  },
  {
   "cell_type": "code",
   "execution_count": 11,
   "metadata": {},
   "outputs": [
    {
     "name": "stdout",
     "output_type": "stream",
     "text": [
      "Konjunktionsbedingung stimmt: 15  ist größer als 10 und kleiner als 20\n",
      "Disjunktionsbedingung stimmt: 15 ist kleiner als 5 oder größer als 10\n",
      "Negationsbedingung stimmt: 8 ist nicht größer als 10\n"
     ]
    }
   ],
   "source": [
    "int zahl = 15;\n",
    "\n",
    "// \"und\" (Konjunktion)\n",
    "if(groesserZehn(zahl) && zahl < 20)\n",
    "{\n",
    "    System.out.println(\"Konjunktionsbedingung stimmt: \"+ zahl + \"  ist größer als 10 und kleiner als 20\");\n",
    "}\n",
    "\n",
    "// \"oder\" (Disjunktion)\n",
    "if(zahl < 5 || zahl > 10)\n",
    "{\n",
    "    System.out.println(\"Disjunktionsbedingung stimmt: \"+zahl+\" ist kleiner als 5 oder größer als 10\");\n",
    "}\n",
    "\n",
    "// \"nicht\" (Negation)\n",
    "if(!groesserZehn(8))\n",
    "{\n",
    "    System.out.println(\"Negationsbedingung stimmt: 8 ist nicht größer als 10\");\n",
    "}"
   ]
  },
  {
   "cell_type": "markdown",
   "metadata": {},
   "source": [
    "## Bedingte Schleife\n",
    "In einer Sequenz werden Programmbefehle sequentiell, nacheinander ausgeführt."
   ]
  },
  {
   "cell_type": "code",
   "execution_count": null,
   "metadata": {},
   "outputs": [],
   "source": []
  }
 ],
 "metadata": {
  "kernelspec": {
   "display_name": "Java",
   "language": "java",
   "name": "java"
  },
  "language_info": {
   "codemirror_mode": "java",
   "file_extension": ".java",
   "mimetype": "text/x-java-source",
   "name": "Java",
   "pygments_lexer": "java",
   "version": "10.0.2+13"
  }
 },
 "nbformat": 4,
 "nbformat_minor": 2
}
