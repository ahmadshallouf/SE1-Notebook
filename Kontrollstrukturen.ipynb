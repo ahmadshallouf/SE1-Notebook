{
 "cells": [
  {
   "cell_type": "markdown",
   "metadata": {},
   "source": [
    "# Kontrollstrukturen in Java\n",
    "\n",
    "Die Ausführungsreihenfolge von Quelltext in Java wird hauptsächlich durch fünf Kontrollstrukturen beeinflusst:\n",
    "- Sequenz\n",
    "- Zusammengesetzter Befehl (auch: Funktion oder Methode)\n",
    "- Fallunterscheidung (`if` / `else`)\n",
    "- Schleife (`while` / `do-while` / `for`)\n",
    "- Auswahl (`switch`)"
   ]
  },
  {
   "cell_type": "markdown",
   "metadata": {},
   "source": [
    "## Sequenz\n",
    "Allgemein werden Programmbefehle sequentiell (nacheinander) ausgeführt. Der nachfolgende Quelltext schreibt nacheinander Wörter in die Ausgabe. Der Quelltext wird sequentiell ausgeführt."
   ]
  },
  {
   "cell_type": "code",
   "execution_count": 1,
   "metadata": {},
   "outputs": [
    {
     "name": "stdout",
     "output_type": "stream",
     "text": [
      "Das\n",
      "ist\n",
      "ein\n",
      "Beispieltext!\n"
     ]
    }
   ],
   "source": [
    "System.out.println(\"Das\");\n",
    "System.out.println(\"ist\");\n",
    "System.out.println(\"ein\");\n",
    "System.out.println(\"Beispieltext!\");"
   ]
  },
  {
   "cell_type": "markdown",
   "metadata": {},
   "source": [
    "## Zusammengesetzter Befehl\n",
    "Mehrere sequentielle Befehle können zu einem \"Zusammengesetzten Befehl\" zusammengefasst werden. Im folgenden Codebeispiel fassen wir die Ausgabe eines Beispieltextes in einem zusammengesetzen Befehl mit dem Namen `schreibeBeispieltext` zusammen. In Zeile 9 rufen wir den Befehl auf."
   ]
  },
  {
   "cell_type": "code",
   "execution_count": 2,
   "metadata": {},
   "outputs": [
    {
     "name": "stdout",
     "output_type": "stream",
     "text": [
      "Das\n",
      "ist\n",
      "ein\n",
      "Beispieltext!\n"
     ]
    }
   ],
   "source": [
    "void schreibeBeispieltext()\n",
    "{\n",
    "    System.out.println(\"Das\");\n",
    "    System.out.println(\"ist\");\n",
    "    System.out.println(\"ein\");\n",
    "    System.out.println(\"Beispieltext!\");\n",
    "}\n",
    "\n",
    "schreibeBeispieltext();"
   ]
  },
  {
   "cell_type": "markdown",
   "metadata": {},
   "source": [
    "## Fallunterscheidungen (mit Alternative)\n",
    "Mit Fallunterscheidungen kann Programmcode abhängig von einer bestimmten Bedingung ausgeführt werden."
   ]
  },
  {
   "cell_type": "code",
   "execution_count": 3,
   "metadata": {},
   "outputs": [
    {
     "name": "stdout",
     "output_type": "stream",
     "text": [
      "x ist größer als 5 (Bedingung ist eingetroffen)\n"
     ]
    }
   ],
   "source": [
    "int x = 10;\n",
    "\n",
    "if (x > 5)\n",
    "{\n",
    "    System.out.println(\"x ist größer als 5 (Bedingung ist eingetroffen)\");\n",
    "}\n",
    "else\n",
    "{\n",
    "    System.out.println(\"x ist kleiner oder gleich 5 (die Bedingung ist nicht eingetroffen)\");\n",
    "}"
   ]
  },
  {
   "cell_type": "markdown",
   "metadata": {},
   "source": [
    "Die `if`-Bedingung kann auch ein Funktions- oder Methodenaufruf sein, der einen Wahrheitswert zurück gibt. Im folgenden Beispiel definieren wir eine Funktion, die prüft ob eine übergebene Zahl größer als 10 ist. Innerhalb der `if`-Bedingung rufen wir die Methode mit dem Wert 12 auf."
   ]
  },
  {
   "cell_type": "code",
   "execution_count": 4,
   "metadata": {},
   "outputs": [
    {
     "name": "stdout",
     "output_type": "stream",
     "text": [
      "Bedingung ist eingetroffen!\n"
     ]
    }
   ],
   "source": [
    "boolean groesserZehn(int x)\n",
    "{\n",
    "    return x > 10;\n",
    "}\n",
    "\n",
    "if(groesserZehn(12))\n",
    "{\n",
    "    System.out.println(\"Bedingung ist eingetroffen!\");\n",
    "}"
   ]
  },
  {
   "cell_type": "markdown",
   "metadata": {},
   "source": [
    "Bedingungen können wir mit \"und\" `&&` (Konjunktion) und \"oder\" `||` (Disjunktion) kombinieren. Mit einem `!` können wir Bedingungen \"umgekehren\" (Negation). Wir lesen die Negation als \"nicht\"."
   ]
  },
  {
   "cell_type": "code",
   "execution_count": 5,
   "metadata": {},
   "outputs": [
    {
     "name": "stdout",
     "output_type": "stream",
     "text": [
      "Konjunktionsbedingung stimmt: 15  ist größer als 10 und kleiner als 20\n",
      "Disjunktionsbedingung stimmt: 15 ist kleiner als 5 oder größer als 10\n",
      "Negationsbedingung stimmt: 8 ist nicht größer als 10\n"
     ]
    }
   ],
   "source": [
    "int zahl = 15;\n",
    "\n",
    "// \"und\" (Konjunktion)\n",
    "if(groesserZehn(zahl) && zahl < 20)\n",
    "{\n",
    "    System.out.println(\"Konjunktionsbedingung stimmt: \"+ zahl + \"  ist größer als 10 und kleiner als 20\");\n",
    "}\n",
    "\n",
    "// \"oder\" (Disjunktion)\n",
    "if(zahl < 5 || zahl > 10)\n",
    "{\n",
    "    System.out.println(\"Disjunktionsbedingung stimmt: \"+zahl+\" ist kleiner als 5 oder größer als 10\");\n",
    "}\n",
    "\n",
    "// \"nicht\" (Negation)\n",
    "if(!groesserZehn(8))\n",
    "{\n",
    "    System.out.println(\"Negationsbedingung stimmt: 8 ist nicht größer als 10\");\n",
    "}"
   ]
  },
  {
   "cell_type": "markdown",
   "metadata": {},
   "source": [
    "## Schleife\n",
    "\n",
    "Mit Schleifen können wir einen Quelltextblock mehrfach ausführen. Die Anzahl der Wiederholungen muss nicht zur Übersetzungszeit feststehen (z.B. Zählschleife in Karel) sondern kann dabei auch erst zur Laufzeit bestimmt werden. Java bietet vier verschiedene Schleifentypen an:\n",
    "- `while`-Schleife\n",
    "- `do-while`-Schleife\n",
    "- `for`-Schleife\n",
    "- Erweiterte `for`-Schleife\n",
    "\n"
   ]
  },
  {
   "cell_type": "markdown",
   "metadata": {},
   "source": [
    "### `while`-Schleife\n",
    "Der Rumpf einer `while`-Schleife wird wiederholt ausgeführt solange die Schleifenbedingung wahr ist. Falls die Bedingung bereits am Anfang falsch ist, wird der Schleifenrumpf nicht ausgeführt (abweisend und kopfgesteuert). Die Schleifenbedingung wird vor jedem Durchlauf geprüft. Falls die Schleifenbedingung zu Beginn nicht zutrifft, wird der Schleifenrumpf nicht ausgeführt. Das folgende Bild veranschaulicht die Syntax und den Programmfluss einer `while`-Schleife:"
   ]
  },
  {
   "cell_type": "code",
   "execution_count": 3,
   "metadata": {},
   "outputs": [
    {
     "name": "stdout",
     "output_type": "stream",
     "text": [
      "x ist: 1 und die Summe ist: 1\n",
      "x ist: 2 und die Summe ist: 3\n",
      "x ist: 3 und die Summe ist: 6\n",
      "x ist: 4 und die Summe ist: 10\n",
      "x ist: 5 und die Summe ist: 15\n",
      "x ist: 6 und die Summe ist: 21\n",
      "x ist: 7 und die Summe ist: 28\n",
      "x ist: 8 und die Summe ist: 36\n",
      "x ist: 9 und die Summe ist: 45\n",
      "x ist: 10 und die Summe ist: 55\n",
      "x ist: 11 und die Summe ist: 66\n",
      "x ist: 12 und die Summe ist: 78\n",
      "x ist: 13 und die Summe ist: 91\n",
      "x ist: 14 und die Summe ist: 105\n"
     ]
    }
   ],
   "source": [
    "int x = 1;\n",
    "int summe = 0;\n",
    "while(summe < 100)\n",
    "{\n",
    "    summe += x; // Kurzschreibweise für: summe = summe + x;\n",
    "    System.out.println(\"x ist: \" + x + \" und die Summe ist: \"+summe);\n",
    "    x++; // Kurzschreibweise für: x = x + 1;\n",
    "}"
   ]
  },
  {
   "cell_type": "markdown",
   "metadata": {},
   "source": [
    "### `do-while`-Schleife\n",
    "Der Rumpf einer `do-while`-Schleife wird in jedem Fall einmal ausgeführt. Die Schleifenbedingung wird erst am Ende des Schleifenrumpfes geprüft (annehmend und fußgesteuert). Das folgende Bild veranschaulicht die Syntax und den Programmfluss einer `do-while`-Schleife:"
   ]
  },
  {
   "cell_type": "markdown",
   "metadata": {},
   "source": [
    "Der folgende Code fragt den Nutzer solange nach einer Passworteingabe bis das richtige Passwort eingegeben wurde. "
   ]
  },
  {
   "cell_type": "code",
   "execution_count": 1,
   "metadata": {},
   "outputs": [
    {
     "name": "stdout",
     "output_type": "stream",
     "text": [
      "Bitte Passwort eingeben: asd\n",
      "Bitte Passwort eingeben: Hallo\n",
      "Bitte Passwort eingeben: asd\n",
      "Bitte Passwort eingeben: r\n",
      "Bitte Passwort eingeben: er\n",
      "Bitte Passwort eingeben: g\n",
      "Bitte Passwort eingeben: top_secret\n",
      "Das Passwort war richtig! Sie sind eingeloggt!\n"
     ]
    }
   ],
   "source": [
    "Scanner s = new Scanner(System.in); // Zum Lesen der Nutzereingabe\n",
    "String PASSWORD = \"top_secret\";\n",
    "String eingabe = \"\";\n",
    "\n",
    "do {\n",
    "    System.out.print(\"Bitte Passwort eingeben: \");\n",
    "    eingabe = s.next(); // Liest die Passworteingabe vom Nutzer\n",
    "}\n",
    "while(!PASSWORD.equals(eingabe)); // Solange das Passwort nicht korrekt eingegeben wurde\n",
    "\n",
    "System.out.println(\"Das Passwort war richtig! Sie sind eingeloggt!\");"
   ]
  },
  {
   "cell_type": "markdown",
   "metadata": {},
   "source": [
    "### Zählschleife\n",
    "\n",
    "Die Syntax für Zählschleifen aus Karel in der folgenden Form gibt es in Java nicht:\n",
    "\n",
    "`\n",
    "repeat (5)\n",
    "{\n",
    "    moveForward();\n",
    "}\n",
    "turnAround();\n",
    "`\n",
    "\n",
    "Allerdings können wir in Java eine Zählschleife mit einer for-Schleife nachbilden."
   ]
  },
  {
   "cell_type": "code",
   "execution_count": 8,
   "metadata": {},
   "outputs": [
    {
     "name": "stdout",
     "output_type": "stream",
     "text": [
      "i hat in diesem Durchlauf den Wert: 0\n",
      "i hat in diesem Durchlauf den Wert: 1\n",
      "i hat in diesem Durchlauf den Wert: 2\n",
      "i hat in diesem Durchlauf den Wert: 3\n",
      "i hat in diesem Durchlauf den Wert: 4\n"
     ]
    }
   ],
   "source": [
    "for(int i = 0; i < 5; i++)\n",
    "{\n",
    "    System.out.println(\"i hat in diesem Durchlauf den Wert: \" + i);\n",
    "}"
   ]
  },
  {
   "cell_type": "markdown",
   "metadata": {},
   "source": [
    "## Selektion\n",
    "Mit der ``switch``-Anweisung..."
   ]
  },
  {
   "cell_type": "code",
   "execution_count": null,
   "metadata": {},
   "outputs": [],
   "source": []
  }
 ],
 "metadata": {
  "kernelspec": {
   "display_name": "Java",
   "language": "java",
   "name": "java"
  },
  "language_info": {
   "codemirror_mode": "java",
   "file_extension": ".java",
   "mimetype": "text/x-java-source",
   "name": "Java",
   "pygments_lexer": "java",
   "version": "10.0.2+13"
  }
 },
 "nbformat": 4,
 "nbformat_minor": 2
}
