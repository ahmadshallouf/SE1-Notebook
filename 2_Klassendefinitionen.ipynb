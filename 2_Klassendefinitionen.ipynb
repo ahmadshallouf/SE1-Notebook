{
 "cells": [
  {
   "cell_type": "markdown",
   "metadata": {},
   "source": [
    "# Klassendefinitionen\n",
    "Klassendefinition ist die textuelle Beschreibung einer Klasse. Ein Java-Programm besteht aus Textdateien. Jede Textdatei beschreibt eine Klasse. Die Klassendefinitionen wird mit einem Editor bearbeitet. Java-Programme bestehen aus Klassen (hier: Girokonto)\n",
    "Klassen definieren Methoden (hier: einzahlen). Diese Methode erhält einen Parameter (hier: betrag vom Typ `int`), keinen Rückgabewert (hier: Schlüsselwort void). Im Rumpf der Methode wird ein Wert einem Zustandsfeld zugewiesen (hier: _saldo). Feld muss deklariert sein (hier vom Typ `int`). Alternativ nennen wir die Felder in einer Klassendefinition auch Exemplarvariablen."
   ]
  },
  {
   "cell_type": "code",
   "execution_count": 6,
   "metadata": {},
   "outputs": [],
   "source": [
    "/**\n",
    "* Schnittstellenkommentar der Klasse\n",
    "*/\n",
    "class Girokonto // Klasenkopf\n",
    "{\n",
    "    //Klassenrumpf\n",
    "    private int _saldo;\n",
    "    \n",
    "    // Konstruktor\n",
    "    public Girokonto()\n",
    "    {\n",
    "        _saldo = 0;\n",
    "    }\n",
    "    \n",
    "    public void einzahlen( int betrag )\n",
    "    {\n",
    "        _saldo = _saldo + betrag;\n",
    "    }\n",
    "    \n",
    "    public int gibSaldo()\n",
    "    {\n",
    "        return _saldo;\n",
    "    }\n",
    "}"
   ]
  },
  {
   "cell_type": "markdown",
   "metadata": {},
   "source": [
    "Klassenkopf: spezifiziert den Namen der Klasse und beschreibt mit dem Schnittstellenkommentar die Aufgabe der Klasse.\n",
    "\n",
    "Klassenrumpf: beinhaltet Zustandsfelder, Konstruktoren und Methoden, die die Zuständigkeiten der Klasse realisieren."
   ]
  },
  {
   "cell_type": "markdown",
   "metadata": {},
   "source": [
    "Von dieser Klasse können wir nach der Deklaration beliebig viele Objekte erzeugen. In Java wird das Schlüsselwort `new` verwendet. Anschließend geben wir den Zustand des Saldos aus. "
   ]
  },
  {
   "cell_type": "code",
   "execution_count": 8,
   "metadata": {},
   "outputs": [
    {
     "data": {
      "text/plain": [
       "0"
      ]
     },
     "execution_count": 8,
     "metadata": {},
     "output_type": "execute_result"
    }
   ],
   "source": [
    "Girokonto konto1 = new Girokonto();\n",
    "Girokonto konto2 = new Girokonto();\n",
    "konto1.gibSaldo()"
   ]
  },
  {
   "cell_type": "markdown",
   "metadata": {},
   "source": [
    "An erzeugten Exemplaren können wir mit Methoden aufrufen um dessen Zustand zu verändern. Methodenaufrufe richten sich an ein bestimmtes Objekt, den Adressaten des Aufrufs. Methoden eines Objekts werden in vielen objektorientierten Sprachen mit der Punktnotation aufgerufen (engl.: dot notation)."
   ]
  },
  {
   "cell_type": "code",
   "execution_count": 10,
   "metadata": {},
   "outputs": [
    {
     "data": {
      "text/plain": [
       "20"
      ]
     },
     "execution_count": 10,
     "metadata": {},
     "output_type": "execute_result"
    }
   ],
   "source": [
    "konto1.einzahlen(10);\n",
    "konto1.gibSaldo();\n"
   ]
  },
  {
   "cell_type": "markdown",
   "metadata": {},
   "source": [
    "## Methodendefinition\n",
    "Methodenköpfe\n",
    "- Klassen spezifizieren mit den Köpfen ihrer öffentlichen Methoden Dienstleistungen\n",
    "- Legen fest, wie die Zustände der Objekte sondiert oder verändert werden\n",
    "- Öffentlichen Methoden bilden die Schnittstelle einer Klasse\n",
    "\n",
    "Methodenrümpfe\n",
    "- Realisieren die versprochenen Dienstleistungen durch eine Implementierung\n",
    "- Schnittstelle (dem „Kopf“) und der Implementierung (dem „Rumpf“) einer Methode sind strukturell getrennt\n",
    "\n",
    "```java\n",
    "/**\n",
    "* Kommentar, der die Funktionalität der Methode beschreibt\n",
    "*/\n",
    "<Zugriffsmodifikator> <Ergebnistyp> <Name> ( <Parameter> )\n",
    "{\n",
    "    <Anweisungen>\n",
    "}\n",
    "```"
   ]
  }
 ],
 "metadata": {
  "kernelspec": {
   "display_name": "Java",
   "language": "java",
   "name": "java"
  },
  "language_info": {
   "codemirror_mode": "java",
   "file_extension": ".java",
   "mimetype": "text/x-java-source",
   "name": "Java",
   "pygments_lexer": "java",
   "version": "10.0.2+13"
  }
 },
 "nbformat": 4,
 "nbformat_minor": 2
}
