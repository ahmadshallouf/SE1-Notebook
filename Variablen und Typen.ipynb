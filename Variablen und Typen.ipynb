{
 "cells": [
  {
   "cell_type": "markdown",
   "metadata": {},
   "source": [
    "# Variablen und Typen\n",
    "\n",
    "Eine Variable hat\n",
    "- einen Namen (häufig auch: Bezeichner), über den sie angesprochen werden kann\n",
    "- einen Typ (Primitiv oder Referenztyp)\n",
    "- eine Belegung bzw. einen Wert während der Ausführung eines Programms\n",
    "\n",
    "Variablen werden vor der Verwendung bekanntgemacht, d.h. deklariert. Vereinfacht geschieht dies durch Angabe des Typs und der Vergabe eines Namens über einen Bezeichner (engl.: identifier).\n",
    "\n",
    "Java ist eine stark typisierte Sprache. Daher müssen Variablen vor der Benutzung deklariert werden. Der Typ einer Variablen legt Wertebereich, zulässige Operationen und weitere Eigenschaften fest.\n",
    "\n",
    "## Primitive Datentypen\n",
    "In Java stehen die folgenden primitive Dartentypen zur Verfügung:\n",
    "- byte (Nummer, 1 byte)\n",
    "- short (Nummer, 2 bytes)\n",
    "- int (Nummer, 4 bytes)\n",
    "- long (Nummer, 8 bytes)\n",
    "- float (Gleitkommazahl, 4 bytes)\n",
    "- double (Gleitkommazahl, 8 bytes)\n",
    "- char (Zeichen, 2 bytes)\n",
    "- boolean (wahr oder falsch, 1 byte)\n",
    "\n",
    "Die deklaration einer Variable erfolt dabei wie folgt:\n",
    "```java\n",
    "type identifier;\n",
    "```\n",
    "\n",
    "Im folgenden Code deklarieren wir erst eine Variable vom typ `int` mit dem Bezeichner `zahl`. Anschließend initialisieren wir die Variable mit dem Wert 10."
   ]
  },
  {
   "cell_type": "code",
   "execution_count": 5,
   "metadata": {},
   "outputs": [
    {
     "data": {
      "text/plain": [
       "10"
      ]
     },
     "execution_count": 5,
     "metadata": {},
     "output_type": "execute_result"
    }
   ],
   "source": [
    "int zahl;\n",
    "zahl = 10;\n",
    "zahl"
   ]
  },
  {
   "cell_type": "markdown",
   "metadata": {},
   "source": [
    "Deklaration und Initialisierung können wir auch abgekürzt noch ein einer Zeile kombinieren."
   ]
  },
  {
   "cell_type": "code",
   "execution_count": 4,
   "metadata": {},
   "outputs": [
    {
     "data": {
      "text/plain": [
       "10"
      ]
     },
     "execution_count": 4,
     "metadata": {},
     "output_type": "execute_result"
    }
   ],
   "source": [
    "int zahl = 10;\n",
    "zahl"
   ]
  },
  {
   "cell_type": "markdown",
   "metadata": {},
   "source": [
    "Wir deklarieren eine für die verbleibenden primitiven Datentypen und initialisieren jede Variable explizit mit ihrem jeweiligen Default-Wert. In der letzten Zeile evaluieren wir den Ausdruck einer Variablen."
   ]
  },
  {
   "cell_type": "code",
   "execution_count": 1,
   "metadata": {
    "scrolled": false
   },
   "outputs": [
    {
     "data": {
      "text/plain": [
       "0"
      ]
     },
     "execution_count": 1,
     "metadata": {},
     "output_type": "execute_result"
    }
   ],
   "source": [
    "byte b = 0;\n",
    "short s = 0;\n",
    "int i = 0;\n",
    "long l = 0L;\n",
    "float f = 0.0f;\n",
    "double d = 0.0;\n",
    "char c = '\u0000';\n",
    "boolean boo = false;\n",
    "\n",
    "b"
   ]
  },
  {
   "cell_type": "markdown",
   "metadata": {},
   "source": [
    "Obwohl Java eine objektorientierte Programmiersprache ist, sind nicht alle Typen Objekte."
   ]
  }
 ],
 "metadata": {
  "kernelspec": {
   "display_name": "Java",
   "language": "java",
   "name": "java"
  },
  "language_info": {
   "codemirror_mode": "java",
   "file_extension": ".java",
   "mimetype": "text/x-java-source",
   "name": "Java",
   "pygments_lexer": "java",
   "version": "10.0.2+13"
  }
 },
 "nbformat": 4,
 "nbformat_minor": 2
}
