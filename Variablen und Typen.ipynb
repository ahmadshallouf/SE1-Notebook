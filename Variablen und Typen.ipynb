{
 "cells": [
  {
   "attachments": {},
   "cell_type": "markdown",
   "metadata": {},
   "source": [
    "# Variablen und Typen\n",
    "\n",
    "Eine Variable hat\n",
    "- einen Namen (häufig auch: Bezeichner), über den sie angesprochen werden kann\n",
    "- einen Typ (Primitiv oder Referenztyp)\n",
    "- eine Belegung bzw. einen Wert während der Ausführung eines Programms\n",
    "\n",
    "Java ist eine stark typisierte Sprache. Daher müssen Variablen vor der Benutzung deklariert werden.\n",
    "\n",
    "## Primitive Datentypen\n",
    "In Java stehen die folgenden primitive Dartentypen zur Verfügung:\n",
    "- byte (Nummer, 1 byte)\n",
    "- short (Nummer, 2 bytes)\n",
    "- int (Nummer, 4 bytes)\n",
    "- long (Nummer, 8 bytes)\n",
    "- float (Gleitkommazahl, 4 bytes)\n",
    "- double (Gleitkommazahl, 8 bytes)\n",
    "- char (Zeichen, 2 bytes)\n",
    "- boolean (wahr oder falsch, 1 byte)\n",
    "\n",
    "Die folgende Zeile deklariert eine Variable vom Typen byte mit dem Bezeichner \"b\" und initialisiert diese mit dem Wert 0."
   ]
  },
  {
   "cell_type": "code",
   "execution_count": 1,
   "metadata": {},
   "outputs": [
    {
     "data": {
      "text/plain": [
       "0"
      ]
     },
     "execution_count": 1,
     "metadata": {},
     "output_type": "execute_result"
    }
   ],
   "source": [
    "byte b = 0;\n",
    "b"
   ]
  },
  {
   "cell_type": "markdown",
   "metadata": {},
   "source": [
    "Wir deklarieren eine für die verbleibenden primitiven Datentypen und initialisieren jede mit ihrem jeweiligen Default-Werten. In der letzten Zeile evaluieren wir den Ausdruck einer Variablen."
   ]
  },
  {
   "cell_type": "code",
   "execution_count": 3,
   "metadata": {
    "scrolled": false
   },
   "outputs": [
    {
     "data": {
      "text/plain": [
       "0"
      ]
     },
     "execution_count": 3,
     "metadata": {},
     "output_type": "execute_result"
    }
   ],
   "source": [
    "short s = 0;\n",
    "int i = 0;\n",
    "long l = 0L;\n",
    "float f = 0.0f;\n",
    "double d = 0.0;\n",
    "char c = '\u0000';\n",
    "boolean boo = false;\n",
    "\n",
    "s"
   ]
  },
  {
   "cell_type": "markdown",
   "metadata": {},
   "source": [
    "Obwohl Java eine objektorientierte Programmiersprache ist, sind nicht alle Typen Objekte."
   ]
  }
 ],
 "metadata": {
  "kernelspec": {
   "display_name": "Java",
   "language": "java",
   "name": "java"
  },
  "language_info": {
   "codemirror_mode": "java",
   "file_extension": ".java",
   "mimetype": "text/x-java-source",
   "name": "Java",
   "pygments_lexer": "java",
   "version": "10.0.2+13"
  }
 },
 "nbformat": 4,
 "nbformat_minor": 2
}
