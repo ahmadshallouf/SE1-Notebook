{
 "cells": [
  {
   "cell_type": "code",
   "execution_count": 1,
   "metadata": {},
   "outputs": [
    {
     "name": "stdout",
     "output_type": "stream",
     "text": [
      "Hallo Welt!\n"
     ]
    }
   ],
   "source": [
    "class Greeter {\n",
    "    \n",
    "    public void greet()\n",
    "    {\n",
    "        System.out.println(\"Hallo Welt!\");\n",
    "    }\n",
    "}\n",
    "\n",
    "Greeter greeter = new Greeter();\n",
    "greeter.greet();"
   ]
  },
  {
   "cell_type": "code",
   "execution_count": 5,
   "metadata": {},
   "outputs": [
    {
     "name": "stdout",
     "output_type": "stream",
     "text": [
      "Hallo Welt!\n"
     ]
    }
   ],
   "source": [
    "interface Greeting\n",
    "{\n",
    "    public void perform();\n",
    "}\n",
    "\n",
    "class Greeter {\n",
    "    \n",
    "    public void greet(Greeting greeting)\n",
    "    {\n",
    "        greeting.perform();\n",
    "    }\n",
    "}\n",
    "\n",
    "class MyGreeting implements Greeting\n",
    "{\n",
    "\n",
    "    public void perform()\n",
    "    {\n",
    "        System.out.println(\"Hallo Welt!\");\n",
    "    }\n",
    "}\n",
    "\n",
    "Greeter greeter = new Greeter();\n",
    "MyGreeting helloWorldGreeting = new MyGreeting();\n",
    "greeter.greet(helloWorldGreeting);"
   ]
  },
  {
   "cell_type": "code",
   "execution_count": 11,
   "metadata": {},
   "outputs": [
    {
     "name": "stdout",
     "output_type": "stream",
     "text": [
      "Hallo\n"
     ]
    }
   ],
   "source": [
    "public void greet(Greeting greeting)\n",
    "{\n",
    "    greeting.perform();\n",
    "}\n",
    "\n",
    "greet(()->System.out.println(\"Hallo\"));"
   ]
  },
  {
   "cell_type": "code",
   "execution_count": null,
   "metadata": {},
   "outputs": [],
   "source": []
  }
 ],
 "metadata": {
  "kernelspec": {
   "display_name": "Java",
   "language": "java",
   "name": "java"
  },
  "language_info": {
   "codemirror_mode": "java",
   "file_extension": ".java",
   "mimetype": "text/x-java-source",
   "name": "Java",
   "pygments_lexer": "java",
   "version": "10.0.2+13"
  }
 },
 "nbformat": 4,
 "nbformat_minor": 2
}
