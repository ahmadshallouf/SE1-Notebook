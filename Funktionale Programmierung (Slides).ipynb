{
 "cells": [
  {
   "cell_type": "code",
   "execution_count": 1,
   "metadata": {},
   "outputs": [
    {
     "name": "stdout",
     "output_type": "stream",
     "text": [
      "Hallo Welt!\n"
     ]
    }
   ],
   "source": [
    "class Greeter {\n",
    "    \n",
    "    public void greet()\n",
    "    {\n",
    "        System.out.println(\"Hallo Welt!\");\n",
    "    }\n",
    "}\n",
    "\n",
    "Greeter greeter = new Greeter();\n",
    "greeter.greet();"
   ]
  },
  {
   "cell_type": "code",
   "execution_count": 5,
   "metadata": {},
   "outputs": [
    {
     "name": "stdout",
     "output_type": "stream",
     "text": [
      "Hallo Welt!\n"
     ]
    }
   ],
   "source": [
    "interface Greeting\n",
    "{\n",
    "    public void perform();\n",
    "}\n",
    "\n",
    "class Greeter {\n",
    "    \n",
    "    public void greet(Greeting greeting)\n",
    "    {\n",
    "        greeting.perform();\n",
    "    }\n",
    "}\n",
    "\n",
    "class MyGreeting implements Greeting\n",
    "{\n",
    "\n",
    "    public void perform()\n",
    "    {\n",
    "        System.out.println(\"Hallo Welt!\");\n",
    "    }\n",
    "}\n",
    "\n",
    "Greeter greeter = new Greeter();\n",
    "MyGreeting helloWorldGreeting = new MyGreeting();\n",
    "greeter.greet(helloWorldGreeting);"
   ]
  },
  {
   "cell_type": "code",
   "execution_count": 11,
   "metadata": {},
   "outputs": [
    {
     "name": "stdout",
     "output_type": "stream",
     "text": [
      "Hallo\n"
     ]
    }
   ],
   "source": [
    "public void greet(Greeting greeting)\n",
    "{\n",
    "    greeting.perform();\n",
    "}\n",
    "\n",
    "greet(()->System.out.println(\"Hallo\"));"
   ]
  },
  {
   "cell_type": "markdown",
   "metadata": {},
   "source": [
    "## λ-Ausdruck Beispiele"
   ]
  },
  {
   "cell_type": "code",
   "execution_count": 22,
   "metadata": {},
   "outputs": [],
   "source": [
    "import java.util.function.*;\n",
    "\n",
    "public int multiplyByTwo(int x)\n",
    "{\n",
    "    return x * 2;\n",
    "}\n",
    "IntFunction multiplyByTwo = x -> x * 2;\n"
   ]
  },
  {
   "cell_type": "code",
   "execution_count": 24,
   "metadata": {},
   "outputs": [],
   "source": [
    "public int add(int x, int y)\n",
    "{\n",
    "    return x + y;\n",
    "}\n",
    "\n",
    "BiFunction<Integer,Integer,Integer> add = (x, y) -> x + y;"
   ]
  },
  {
   "cell_type": "code",
   "execution_count": 30,
   "metadata": {},
   "outputs": [],
   "source": [
    "public int stringLengthCount(String s)\n",
    "{\n",
    "    return s.length();\n",
    "}\n",
    "\n",
    "Function<String, Integer> stringLengthCount = s -> s.length();"
   ]
  },
  {
   "cell_type": "code",
   "execution_count": 25,
   "metadata": {},
   "outputs": [
    {
     "data": {
      "text/plain": [
       "11"
      ]
     },
     "execution_count": 25,
     "metadata": {},
     "output_type": "execute_result"
    }
   ],
   "source": [
    "multiplyByTwo.apply(3);\n",
    "add.apply(4,7)"
   ]
  },
  {
   "cell_type": "code",
   "execution_count": 31,
   "metadata": {},
   "outputs": [],
   "source": [
    "@FunctionalInterface\n",
    "interface Greeting\n",
    "{\n",
    "    public void perform();\n",
    "}\n"
   ]
  },
  {
   "cell_type": "code",
   "execution_count": 32,
   "metadata": {},
   "outputs": [],
   "source": [
    "Greeting greetingFunc = () -> System.out.println(\"Hallo Welt!\");"
   ]
  },
  {
   "cell_type": "code",
   "execution_count": 34,
   "metadata": {},
   "outputs": [
    {
     "name": "stdout",
     "output_type": "stream",
     "text": [
      "Hallo Welt!\n"
     ]
    }
   ],
   "source": [
    "greetingFunc.perform()"
   ]
  },
  {
   "cell_type": "code",
   "execution_count": null,
   "metadata": {},
   "outputs": [],
   "source": []
  }
 ],
 "metadata": {
  "kernelspec": {
   "display_name": "Java",
   "language": "java",
   "name": "java"
  },
  "language_info": {
   "codemirror_mode": "java",
   "file_extension": ".java",
   "mimetype": "text/x-java-source",
   "name": "Java",
   "pygments_lexer": "java",
   "version": "10.0.2+13"
  }
 },
 "nbformat": 4,
 "nbformat_minor": 2
}
