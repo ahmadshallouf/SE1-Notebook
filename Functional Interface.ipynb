{
 "cells": [
  {
   "cell_type": "code",
   "execution_count": 7,
   "metadata": {},
   "outputs": [],
   "source": [
    "interface MyInterface\n",
    "{\n",
    "    public void printSomething(String text);\n",
    "}"
   ]
  },
  {
   "cell_type": "code",
   "execution_count": 10,
   "metadata": {},
   "outputs": [
    {
     "name": "stdout",
     "output_type": "stream",
     "text": [
      "Das ist der Text zur Ausgabe: Hello World\n"
     ]
    }
   ],
   "source": [
    "MyInterface mi = text -> System.out.println(\"Das ist der Text zur Ausgabe: \" + text);\n",
    "mi.printSomething(\"Hello World\");"
   ]
  }
 ],
 "metadata": {
  "kernelspec": {
   "display_name": "Java",
   "language": "java",
   "name": "java"
  },
  "language_info": {
   "codemirror_mode": "java",
   "file_extension": ".java",
   "mimetype": "text/x-java-source",
   "name": "Java",
   "pygments_lexer": "java",
   "version": "10.0.2+13"
  }
 },
 "nbformat": 4,
 "nbformat_minor": 2
}
