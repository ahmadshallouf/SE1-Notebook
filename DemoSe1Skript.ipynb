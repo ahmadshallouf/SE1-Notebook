{
 "cells": [
  {
   "cell_type": "markdown",
   "metadata": {},
   "source": [
    "# Demo Interaktives SE1 Skript"
   ]
  },
  {
   "cell_type": "markdown",
   "metadata": {},
   "source": [
    "## Fallunterscheidungen\n",
    "Mit Fallunterscheidungen kann Programmcode abhängig von einer beestimmten Bedingung ausgeführt werden."
   ]
  },
  {
   "cell_type": "code",
   "execution_count": null,
   "metadata": {},
   "outputs": [],
   "source": [
    "int x = 10;\n",
    "if (x > 5)\n",
    "{\n",
    "    System.out.println(\"x ist größer als 5 (Bedingung ist eingetroffen)\");\n",
    "}\n",
    "else\n",
    "{\n",
    "    System.out.println(\"x ist kleiner oder gleich 5 (die Bedingung ist nicht eingetroffen)\");\n",
    "}"
   ]
  },
  {
   "cell_type": "markdown",
   "metadata": {},
   "source": [
    "## Klassen\n",
    "Klassen sind Vorlagen (Schablonen), aus denen Exemplare erzeugt werden. Exemplare haben einen Zustand und Methoden über die der Zustand abgefragt und verändert werden kann. Im Folgenden erzeugen wir eine Klasse `Person`, die für jedes erzeugte Exemplar einen Namen und ein Alter festlegt. als Exemplarvariablen definiert. Desweiteren bietet die Klasse eine Methode `schreibePersonInformationen()` an, die den aktuellen Zustand einer Person (Name und Alter) ausgibt."
   ]
  },
  {
   "cell_type": "code",
   "execution_count": null,
   "metadata": {},
   "outputs": [],
   "source": [
    "class Person\n",
    "{\n",
    "    private String _name;\n",
    "    private int _alter;\n",
    "    \n",
    "    public Person(String name, int alter)\n",
    "    {\n",
    "        _name = name;\n",
    "        _alter = alter;\n",
    "    }\n",
    "    \n",
    "    public void schreibePersonInformation()\n",
    "    {\n",
    "        System.out.println(\"Das ist \"+_name+\" (Alter: \" + _alter + \").\");\n",
    "    }\n",
    "}"
   ]
  },
  {
   "cell_type": "code",
   "execution_count": null,
   "metadata": {},
   "outputs": [],
   "source": [
    "Person mathias = new Person(\"Mathias\", 19);\n",
    "mathias.schreibePersonInformation();\n",
    "\n",
    "Person lena = new Person(\"Lena\", 22);\n",
    "lena.schreibePersonInformation();"
   ]
  }
 ],
 "metadata": {
  "kernelspec": {
   "display_name": "Java",
   "language": "java",
   "name": "java"
  },
  "language_info": {
   "codemirror_mode": "java",
   "file_extension": ".java",
   "mimetype": "text/x-java-source",
   "name": "Java",
   "pygments_lexer": "java",
   "version": "9.0.1+11"
  }
 },
 "nbformat": 4,
 "nbformat_minor": 2
}
