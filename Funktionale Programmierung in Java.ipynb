{
 "cells": [
  {
   "cell_type": "markdown",
   "metadata": {},
   "source": [
    "# Funktionale Programmierung in Java\n",
    "In diesem Notebook programmieren wir funktional in Java. Dazu definieren wir das folgende Interface `IntBinaryOperator`, das eine Operation `applyOperator` anbietet, mit der wir zwei `int` Werte miteinander verrechnen können."
   ]
  },
  {
   "cell_type": "code",
   "execution_count": 52,
   "metadata": {},
   "outputs": [],
   "source": [
    "interface IntBinaryOperator\n",
    "{\n",
    "    public int applyOperation(int x, int y);\n",
    "}"
   ]
  },
  {
   "cell_type": "markdown",
   "metadata": {},
   "source": [
    "Eine Klasse kann dieses Interface implementieren. Wir können dieses Interface mit einer Klasse implementieren. Im Folgenden Codebeispiel implementiert die Klasse `Mulitplizierer` das Interface `IntBinaryOperator`."
   ]
  },
  {
   "cell_type": "code",
   "execution_count": 26,
   "metadata": {},
   "outputs": [
    {
     "data": {
      "text/plain": [
       "15"
      ]
     },
     "execution_count": 26,
     "metadata": {},
     "output_type": "execute_result"
    }
   ],
   "source": [
    "class Mulitplizierer implements IntBinaryOperator\n",
    "{\n",
    "    @Override\n",
    "    public int applyOperation(int x, int y)\n",
    "    {\n",
    "        return x * y;\n",
    "    }\n",
    "}\n",
    "\n",
    "Mulitplizierer m = new Mulitplizierer();\n",
    "m.applyOperation(3,5)"
   ]
  },
  {
   "cell_type": "markdown",
   "metadata": {},
   "source": [
    "Das Interface `IntBinaryOperator` bietet nur eine abstrakte Operation an, die von einer Klasse implementiert werden muss, wenn sie das Interface implementiert. Interfaces mit nur einer abstrakten Operation sind **funktionale Interfaces**. Funktionale Interfaces können wir, statt mit einer Klasse, auch mit einem **Lambda-Ausdruck** implementieren und anschließend nutzen:"
   ]
  },
  {
   "cell_type": "code",
   "execution_count": 32,
   "metadata": {},
   "outputs": [
    {
     "data": {
      "text/plain": [
       "15"
      ]
     },
     "execution_count": 32,
     "metadata": {},
     "output_type": "execute_result"
    }
   ],
   "source": [
    "IntBinaryOperator m = (x,y) -> x*y;\n",
    "m.applyOperation(3,5);"
   ]
  },
  {
   "cell_type": "markdown",
   "metadata": {},
   "source": [
    "Der Lambda-Ausdruck `(x,y) -> x+y` ist eine Kurzschreibweise für eine Methode. Er bietet eine Liste formaler Parameter und einen Implementationsausdruck oder -rumpf in denen die Parameter verwendet werden. Wir verwenden den Ausdruck hier für eine Interface-Implementation der Operation `applyOperation`. Der Ausdruck beschreibt eine Implementation, die zwei Parameter `x` und `y` entgegennimmt und die Summe als Ergebnis liefert."
   ]
  },
  {
   "cell_type": "markdown",
   "metadata": {},
   "source": [
    "Wir können auch Methoden Implementationen mit der gleichen Signatur verwenden um das funktionale Interface zu implementieren. Die folgende Klasse `BinaryIntBerechnungen` bietet drei statische Methoden mit der selbten Signatur an. Wir können die nutzen um das funktionale Interface zu implementieren:"
   ]
  },
  {
   "cell_type": "code",
   "execution_count": 37,
   "metadata": {},
   "outputs": [],
   "source": [
    "class BinaryIntBerechnungen\n",
    "{\n",
    "    public static int addiere(int x, int y)\n",
    "    {\n",
    "        return x + y;\n",
    "    }\n",
    "    \n",
    "    public static int multipliziere(int x, int y)\n",
    "    {\n",
    "        return x * y;\n",
    "    }\n",
    "    \n",
    "    public static int subtrahiere(int x, int y)\n",
    "    {\n",
    "        return x - y;\n",
    "    }\n",
    "}"
   ]
  },
  {
   "cell_type": "code",
   "execution_count": 39,
   "metadata": {},
   "outputs": [
    {
     "name": "stdout",
     "output_type": "stream",
     "text": [
      "8\n",
      "15\n",
      "3\n"
     ]
    }
   ],
   "source": [
    "IntBinaryOperator addierer = BinaryIntBerechnungen::addiere;\n",
    "IntBinaryOperator multiplizierer = BinaryIntBerechnungen::multipliziere;\n",
    "IntBinaryOperator subtrahierer = BinaryIntBerechnungen::subtrahiere;\n",
    "\n",
    "System.out.println(addierer.applyOperation(3,5));\n",
    "System.out.println(multiplizierer.applyOperation(3,5));\n",
    "System.out.println(subtrahierer.applyOperation(10,7));"
   ]
  },
  {
   "cell_type": "markdown",
   "metadata": {},
   "source": [
    "Mit der Syntax `Klassenname::Methodenname` referenzieren wir eine statische Methode in einer Klasse und nutzen sie um das funktionale Interface zu implementieren. Anschließend rufen wir die Methode auf.\n",
    "\n",
    "\n",
    "Auf diese Weise können wir existierende Methoden als Werte übergeben. In dem Folgenden Beispiel nutzen wir das in Java existierende funktionale Interface `Comparator`, mit dem wir eine Vorschrift definieren können nachdem wir eine Liste sortieren möchten. Wir definieren erst die Forschrift mit einem Lambda-Ausdruck und rufen dann die Sort Methode auf:"
   ]
  },
  {
   "cell_type": "code",
   "execution_count": 51,
   "metadata": {},
   "outputs": [
    {
     "name": "stdout",
     "output_type": "stream",
     "text": [
      "Nach Länge sortiert: [Benno, Casten, Dominik, Alexander]\n",
      "Alphabetisch sortiert: [Alexander, Benno, Casten, Dominik]\n"
     ]
    }
   ],
   "source": [
    "List<String> names = new ArrayList<String>();\n",
    "names.add(\"Alexander\");\n",
    "names.add(\"Benno\");\n",
    "names.add(\"Casten\");\n",
    "names.add(\"Dominik\");\n",
    "\n",
    "Comparator<String> nachLaenge = (o1, o2) -> o1.length() - o2.length();\n",
    "names.sort(nachLaenge);\n",
    "System.out.println(\"Nach Länge sortiert: \" + names.toString());\n",
    "\n",
    "Comparator<String> alphabetisch = (o1, o2) -> o1.compareTo(o2);\n",
    "names.sort(alphabetisch);\n",
    "System.out.println(\"Alphabetisch sortiert: \" + names.toString());\n"
   ]
  },
  {
   "cell_type": "code",
   "execution_count": 36,
   "metadata": {},
   "outputs": [
    {
     "data": {
      "text/plain": [
       "14"
      ]
     },
     "execution_count": 36,
     "metadata": {},
     "output_type": "execute_result"
    }
   ],
   "source": [
    "// Beispiel für reduce\n",
    "\n",
    "List<Integer> zahlen = new ArrayList<Integer>();\n",
    "zahlen.add(3);\n",
    "zahlen.add(4);\n",
    "zahlen.add(5);\n",
    "zahlen.add(2);\n",
    "zahlen.stream().reduce((x,y)-> x+y).get()"
   ]
  }
 ],
 "metadata": {
  "kernelspec": {
   "display_name": "Java",
   "language": "java",
   "name": "java"
  },
  "language_info": {
   "codemirror_mode": "java",
   "file_extension": ".java",
   "mimetype": "text/x-java-source",
   "name": "Java",
   "pygments_lexer": "java",
   "version": "10.0.2+13"
  }
 },
 "nbformat": 4,
 "nbformat_minor": 2
}
