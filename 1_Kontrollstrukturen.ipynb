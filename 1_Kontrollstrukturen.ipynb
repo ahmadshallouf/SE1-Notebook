{
 "cells": [
  {
   "cell_type": "markdown",
   "metadata": {},
   "source": [
    "# Kontrollstrukturen in Java\n",
    "Kontrollstrukturen steuern den Kontrollfluss eines sequenziellen Programms. Dabei können beispielsweise in Abhängigkeit von der Bewertung von Ausdrücken gewisse Anweisungen übergangen oder ausgeführt werden.\n",
    "\n",
    "Die Ausführungsreihenfolge von Quelltext in Java wird hauptsächlich durch fünf Kontrollstrukturen beeinflusst:\n",
    "- Sequenz\n",
    "- Zusammengesetzter Befehl (auch: Funktion oder Methode)\n",
    "- Fallunterscheidung (`if` / `else`)\n",
    "- Schleife (`while` / `do-while` / `for`)\n",
    "- Auswahl (`switch`)"
   ]
  },
  {
   "cell_type": "markdown",
   "metadata": {},
   "source": [
    "## Sequenz\n",
    "Allgemein werden Programmbefehle sequentiell (nacheinander) ausgeführt. Der nachfolgende Quelltext schreibt nacheinander Wörter in die Ausgabe. Der Quelltext wird sequentiell ausgeführt."
   ]
  },
  {
   "cell_type": "code",
   "execution_count": 1,
   "metadata": {},
   "outputs": [
    {
     "name": "stdout",
     "output_type": "stream",
     "text": [
      "Das\n",
      "ist\n",
      "ein\n",
      "Beispieltext!\n"
     ]
    }
   ],
   "source": [
    "System.out.println(\"Das\");\n",
    "System.out.println(\"ist\");\n",
    "System.out.println(\"ein\");\n",
    "System.out.println(\"Beispieltext!\");"
   ]
  },
  {
   "cell_type": "markdown",
   "metadata": {},
   "source": [
    "Ein Block (eine zusammengesetzte Anweisung) kann an jeder Stelle stehen, an der eine einzelne Anweisung angeschrieben werden kann."
   ]
  },
  {
   "cell_type": "markdown",
   "metadata": {},
   "source": [
    "## Zusammengesetzter Befehl\n",
    "Mehrere sequentielle Befehle können zu einem \"Zusammengesetzten Befehl\" zusammengefasst werden. Im folgenden Codebeispiel fassen wir die Ausgabe eines Beispieltextes in einem zusammengesetzen Befehl mit dem Namen `schreibeBeispieltext` zusammen. In Zeile 9 rufen wir den Befehl auf."
   ]
  },
  {
   "cell_type": "code",
   "execution_count": 2,
   "metadata": {},
   "outputs": [
    {
     "name": "stdout",
     "output_type": "stream",
     "text": [
      "Das\n",
      "ist\n",
      "ein\n",
      "Beispieltext!\n"
     ]
    }
   ],
   "source": [
    "void schreibeBeispieltext()\n",
    "{\n",
    "    System.out.println(\"Das\");\n",
    "    System.out.println(\"ist\");\n",
    "    System.out.println(\"ein\");\n",
    "    System.out.println(\"Beispieltext!\");\n",
    "}\n",
    "\n",
    "schreibeBeispieltext();"
   ]
  },
  {
   "cell_type": "markdown",
   "metadata": {},
   "source": [
    "## Fallunterscheidungen (mit Alternative)\n",
    "Mit einer Fallunterscheidung können wir Programmcode abhängig von einer bestimmten Bedingung ausgeführen.\n",
    "\n",
    "```java\n",
    "if (Bedingung)\n",
    "{\n",
    "    // Wird asugeführt wenn Bedingung zu true evaluiert\n",
    "    first_statement;\n",
    "    ...\n",
    "    last_statement;\n",
    "}\n",
    "else\n",
    "{\n",
    "    // Wird asugeführt wenn Bedingung zu false evaluiert\n",
    "    first_statement; \n",
    "    ...\n",
    "    last_statement;\n",
    "}\n",
    "```\n"
   ]
  },
  {
   "cell_type": "code",
   "execution_count": 3,
   "metadata": {},
   "outputs": [
    {
     "name": "stdout",
     "output_type": "stream",
     "text": [
      "x ist größer als 5 (Bedingung ist eingetroffen)\n"
     ]
    }
   ],
   "source": [
    "int x = 10;\n",
    "\n",
    "if (x > 5)\n",
    "{\n",
    "    System.out.println(\"x ist größer als 5 (Bedingung ist eingetroffen)\");\n",
    "}\n",
    "else\n",
    "{\n",
    "    System.out.println(\"x ist kleiner oder gleich 5 (die Bedingung ist nicht eingetroffen)\");\n",
    "}"
   ]
  },
  {
   "cell_type": "markdown",
   "metadata": {},
   "source": [
    "Die `if`-Bedingung kann auch ein Funktions- oder Methodenaufruf sein, der einen Wahrheitswert zurück gibt. Im folgenden Beispiel definieren wir eine Funktion, die prüft ob eine übergebene Zahl größer als 10 ist. Innerhalb der `if`-Bedingung rufen wir die Methode mit dem Wert 12 auf."
   ]
  },
  {
   "cell_type": "code",
   "execution_count": 4,
   "metadata": {},
   "outputs": [
    {
     "name": "stdout",
     "output_type": "stream",
     "text": [
      "Bedingung ist eingetroffen!\n"
     ]
    }
   ],
   "source": [
    "boolean groesserZehn(int x)\n",
    "{\n",
    "    return x > 10;\n",
    "}\n",
    "\n",
    "if(groesserZehn(12))\n",
    "{\n",
    "    System.out.println(\"Bedingung ist eingetroffen!\");\n",
    "}"
   ]
  },
  {
   "cell_type": "markdown",
   "metadata": {},
   "source": [
    "Bedingungen können wir mit \"und\" `&&` (Konjunktion) und \"oder\" `||` (Disjunktion) kombinieren. Mit einem `!` können wir Bedingungen \"umgekehren\" (Negation). Wir lesen die Negation als \"nicht\"."
   ]
  },
  {
   "cell_type": "code",
   "execution_count": 5,
   "metadata": {},
   "outputs": [
    {
     "name": "stdout",
     "output_type": "stream",
     "text": [
      "Konjunktionsbedingung stimmt: 15  ist größer als 10 und kleiner als 20\n",
      "Disjunktionsbedingung stimmt: 15 ist kleiner als 5 oder größer als 10\n",
      "Negationsbedingung stimmt: 8 ist nicht größer als 10\n"
     ]
    }
   ],
   "source": [
    "int zahl = 15;\n",
    "\n",
    "// \"und\" (Konjunktion)\n",
    "if(groesserZehn(zahl) && zahl < 20)\n",
    "{\n",
    "    System.out.println(\"Konjunktionsbedingung stimmt: \"+ zahl + \"  ist größer als 10 und kleiner als 20\");\n",
    "}\n",
    "\n",
    "// \"oder\" (Disjunktion)\n",
    "if(zahl < 5 || zahl > 10)\n",
    "{\n",
    "    System.out.println(\"Disjunktionsbedingung stimmt: \"+zahl+\" ist kleiner als 5 oder größer als 10\");\n",
    "}\n",
    "\n",
    "// \"nicht\" (Negation)\n",
    "if(!groesserZehn(8))\n",
    "{\n",
    "    System.out.println(\"Negationsbedingung stimmt: 8 ist nicht größer als 10\");\n",
    "}"
   ]
  },
  {
   "cell_type": "markdown",
   "metadata": {},
   "source": [
    "Die `else-if`-Anweisung ist die allgemeinste Möglichkeit für eine Mehrfach-Selektion, d. h., um eine Auswahl unter verschiedenen Alternativen zu treffen. Die Syntax dieser Anweisung ist:\n",
    "\n",
    "```java\n",
    "if (Ausdruck_1)\n",
    "{\n",
    "    Anweisungen_1\n",
    "}\n",
    "else if (Ausdruck_2)\n",
    "{\n",
    "    Anweisungen_2\n",
    "    \n",
    "}\n",
    "...\n",
    "else if (Ausdruck_n)\n",
    "{\n",
    "    Anweisung_n\n",
    "}\n",
    "else // der else-Zweig\n",
    "{\n",
    "    Anweisung_else // ist optional\n",
    "}\n",
    "```"
   ]
  },
  {
   "cell_type": "markdown",
   "metadata": {},
   "source": [
    "## Schleife\n",
    "\n",
    "Mit Schleifen können wir einen Quelltextblock mehrfach ausführen. Die Anzahl der Wiederholungen muss nicht zur Übersetzungszeit feststehen (z.B. Zählschleife in Karel) sondern kann dabei auch erst zur Laufzeit bestimmt werden. Java bietet vier verschiedene Schleifentypen an:\n",
    "- `while`-Schleife\n",
    "- `do-while`-Schleife\n",
    "- `for`-Schleife\n",
    "- Erweiterte `for`-Schleife\n",
    "\n"
   ]
  },
  {
   "cell_type": "markdown",
   "metadata": {},
   "source": [
    "### `while`-Schleife\n",
    "Der Rumpf einer `while`-Schleife wird wiederholt ausgeführt solange die Schleifenbedingung wahr ist. Falls die Bedingung bereits am Anfang falsch ist, wird der Schleifenrumpf nicht ausgeführt (abweisend und kopfgesteuert). Die Schleifenbedingung wird vor jedem Durchlauf geprüft. Falls die Schleifenbedingung zu Beginn nicht zutrifft, wird der Schleifenrumpf nicht ausgeführt. Das folgende Bild veranschaulicht die Syntax und den Programmfluss einer `while`-Schleife:\n",
    "<img src=\"files/images/while.png\" width=\"300px\">"
   ]
  },
  {
   "cell_type": "code",
   "execution_count": 6,
   "metadata": {},
   "outputs": [
    {
     "name": "stdout",
     "output_type": "stream",
     "text": [
      "x ist: 1 und die Summe ist: 1\n",
      "x ist: 2 und die Summe ist: 3\n",
      "x ist: 3 und die Summe ist: 6\n",
      "x ist: 4 und die Summe ist: 10\n",
      "x ist: 5 und die Summe ist: 15\n",
      "x ist: 6 und die Summe ist: 21\n",
      "x ist: 7 und die Summe ist: 28\n",
      "x ist: 8 und die Summe ist: 36\n",
      "x ist: 9 und die Summe ist: 45\n",
      "x ist: 10 und die Summe ist: 55\n",
      "x ist: 11 und die Summe ist: 66\n",
      "x ist: 12 und die Summe ist: 78\n",
      "x ist: 13 und die Summe ist: 91\n",
      "x ist: 14 und die Summe ist: 105\n"
     ]
    }
   ],
   "source": [
    "int x = 1;\n",
    "int summe = 0;\n",
    "while(summe < 100)\n",
    "{\n",
    "    summe += x; // Kurzschreibweise für: summe = summe + x;\n",
    "    System.out.println(\"x ist: \" + x + \" und die Summe ist: \"+summe);\n",
    "    x++; // Kurzschreibweise für: x = x + 1;\n",
    "}"
   ]
  },
  {
   "cell_type": "markdown",
   "metadata": {},
   "source": [
    "### `do-while`-Schleife\n",
    "Der Rumpf einer `do-while`-Schleife wird in jedem Fall einmal ausgeführt. Die Schleifenbedingung wird erst am Ende des Schleifenrumpfes geprüft (annehmend und fußgesteuert). Das folgende Bild veranschaulicht die Syntax und den Programmfluss einer `do-while`-Schleife:\n",
    "<img src=\"files/images/dowhile.png\" width=\"300px\">"
   ]
  },
  {
   "cell_type": "markdown",
   "metadata": {},
   "source": [
    "Der folgende Code fragt den Nutzer solange nach einer Passworteingabe bis das richtige Passwort eingegeben wurde. "
   ]
  },
  {
   "cell_type": "code",
   "execution_count": 7,
   "metadata": {},
   "outputs": [
    {
     "name": "stdout",
     "output_type": "stream",
     "text": [
      "Bitte Passwort eingeben: test1\n",
      "Bitte Passwort eingeben: hallo\n",
      "Bitte Passwort eingeben: top_secret\n",
      "Das Passwort war richtig! Sie sind eingeloggt!\n"
     ]
    }
   ],
   "source": [
    "Scanner s = new Scanner(System.in); // Zum Lesen der Nutzereingabe\n",
    "String PASSWORD = \"top_secret\";\n",
    "String eingabe = \"\";\n",
    "\n",
    "do {\n",
    "    System.out.print(\"Bitte Passwort eingeben: \");\n",
    "    eingabe = s.next(); // Liest die Passworteingabe vom Nutzer\n",
    "}\n",
    "while(!PASSWORD.equals(eingabe)); // Solange das Passwort nicht korrekt eingegeben wurde\n",
    "\n",
    "System.out.println(\"Das Passwort war richtig! Sie sind eingeloggt!\");"
   ]
  },
  {
   "cell_type": "markdown",
   "metadata": {},
   "source": [
    "### `for`-Schleife\n",
    "Die `for`-Schleife besteht ebenfalls aus einem Kopf (Schleifensteuerung) und dem Rumpf. Der Schleifenkopf ist dreigeteilt und besteht aus (1) einem initialisierendem Ausdruck, (2) Schleifenbedingung, (3) einem Update-Ausdruck. (1) wird einmalig zu Beginn der Schleife ausgeführt. (2) wird vor jedem Schleifendurchlauf geprüft und der Schleifenrumpf wird ausegführt, wenn die Bedingung wahr ist. Nach dem Ablauf des Schleifenrumpfes wird das Update in (3) ausgeführt und die Bedingung (2) wird erneut geprüft. Das folgende Bild veranschaulicht die Syntax und den Programmfluss einer `for`-Schleife:\n",
    "<img src=\"files/images/for.png\" width=\"300px\">"
   ]
  },
  {
   "cell_type": "markdown",
   "metadata": {},
   "source": [
    "Ein einfaches Beispiel für eine `for`-Schleife ist die Zählschleife. Hierbei legt der Schleifenkopf die Anzahl der Wiederholungen statisch fest. Der folgende Code zeigt die Implementation einer Zählschleife mit einer `for`-Schleife:"
   ]
  },
  {
   "cell_type": "code",
   "execution_count": 8,
   "metadata": {},
   "outputs": [
    {
     "name": "stdout",
     "output_type": "stream",
     "text": [
      "i hat in diesem Durchlauf den Wert: 0\n",
      "i hat in diesem Durchlauf den Wert: 1\n",
      "i hat in diesem Durchlauf den Wert: 2\n",
      "i hat in diesem Durchlauf den Wert: 3\n",
      "i hat in diesem Durchlauf den Wert: 4\n"
     ]
    }
   ],
   "source": [
    "for(int i = 0; i < 5; i++)\n",
    "{\n",
    "    System.out.println(\"i hat in diesem Durchlauf den Wert: \" + i);\n",
    "}"
   ]
  },
  {
   "cell_type": "markdown",
   "metadata": {},
   "source": [
    "`for`-Schleifen werden oft verwendet um durch Arrays zu iterieren. Typischerweise werden `for`-Schleifen eingesetzt, um alle Elemente eines Arrays zu bearbeiten. Im folgenden Code erstellen wir ein `int`-Array, initialisieren die einzelnen Felder aufsteigend und geben den Zustand des Arrays auf der Konsole aus."
   ]
  },
  {
   "cell_type": "code",
   "execution_count": 9,
   "metadata": {},
   "outputs": [
    {
     "data": {
      "text/plain": [
       "[0, 1, 2, 3, 4, 5, 6, 7, 8, 9]"
      ]
     },
     "execution_count": 9,
     "metadata": {},
     "output_type": "execute_result"
    }
   ],
   "source": [
    "int[] zahlen = new int[10];\n",
    "\n",
    "for(int i = 0; i < zahlen.length; i++)\n",
    "{\n",
    "    zahlen[i] = i;\n",
    "}\n",
    "Arrays.toString(zahlen);"
   ]
  },
  {
   "cell_type": "markdown",
   "metadata": {},
   "source": [
    "Im folgenden Beispiel nutzen wir die `for`-Schleife um die Zellenbelegung von intArray1 in intArray2 zu kopieren."
   ]
  },
  {
   "cell_type": "code",
   "execution_count": 10,
   "metadata": {},
   "outputs": [
    {
     "name": "stdout",
     "output_type": "stream",
     "text": [
      "Belegung intArray1: [1, 2, 3]\n",
      "Belegung intArray2: [1, 2, 3]\n"
     ]
    }
   ],
   "source": [
    "int[] intArray1 = { 1, 2, 3 };\n",
    "int[] intArray2 = new int[intArray1.length];\n",
    "for (int i=0; i < intArray1.length; ++i)\n",
    "{\n",
    "    intArray2[i] = intArray1[i];\n",
    "}\n",
    "System.out.println(\"Belegung intArray1: \" + Arrays.toString(intArray1));\n",
    "System.out.println(\"Belegung intArray2: \" + Arrays.toString(intArray2));"
   ]
  },
  {
   "cell_type": "markdown",
   "metadata": {},
   "source": [
    "### Erweiterte `for`-Schleife\n",
    "Mit der erweiterten `for`-Schleife (aka for-each Schleife) können wir über Objekte iterieren, die das Interface `Iterable` implementieren, wie z.B. Arrays und Listen. Der folgende Code gibt alle Zahlen des oben definierten Arrays aus."
   ]
  },
  {
   "cell_type": "code",
   "execution_count": 11,
   "metadata": {},
   "outputs": [
    {
     "name": "stdout",
     "output_type": "stream",
     "text": [
      "0\n",
      "1\n",
      "2\n",
      "3\n",
      "4\n",
      "5\n",
      "6\n",
      "7\n",
      "8\n",
      "9\n",
      "Peter\n",
      "Hanz\n",
      "Lisa\n"
     ]
    }
   ],
   "source": [
    "for(int zahl : zahlen) // Lesevorschrift: \"Für jede 'zahl' in 'zahlen'\"\n",
    "{\n",
    "    System.out.println(zahl);\n",
    "}\n",
    "\n",
    "\n",
    "List<String> names = new ArrayList<String>();\n",
    "names.add(\"Peter\");\n",
    "names.add(\"Hanz\");\n",
    "names.add(\"Lisa\");\n",
    "\n",
    "for(String name : names) // Lesevorschrift: \"Für jeden 'name' in 'names'\"\n",
    "{\n",
    "    System.out.println(name);\n",
    "}\n"
   ]
  },
  {
   "cell_type": "markdown",
   "metadata": {},
   "source": [
    "Diese Schleifenart ist nicht geeignet, wenn an der Belegung der Zellen in einem Array etwas geändert werden soll. Es steht im Schleifenrumpf kein Schleifenindex zur Verfügung."
   ]
  },
  {
   "cell_type": "markdown",
   "metadata": {},
   "source": [
    "## Selektion\n",
    "Die Selektions- oder auch ``switch``-Anweisung (engl.: case statement, switch statement) ist eine Mehrweg-Verzweigung. Mehrere Fälle können unterschiedlich behandelt werden. Im Unterschiede zur `if`-Anweisung:\n",
    "- Mehrere Ausdruckstypen kuonnen die Auswahl kontrollieren\n",
    "- Einer oder mehrere Fälle können ausgewählt werden\n",
    "- Statt des else-Falles gibt es einen Standardfall (default) für alle nicht benannten Fälle\n",
    "\n",
    "Abhängig vom Wert der Expression setzt der Programmfluss beim passenden case Label fort und endet bei der nächsten `break` Anweisung.\n",
    "\n",
    "``\n",
    "switch (expression)\n",
    "{\n",
    "    case value_1: statements_1;\n",
    "    case value_2: statements_2;\n",
    "                  break;\n",
    "    ...\n",
    "    default: default_statements;\n",
    "}\n",
    "``\n",
    "\n",
    "Im Folgenden Code prüfen wir die Belegung der Variable `zahl` mit einer `switch`-Anweisunge."
   ]
  },
  {
   "cell_type": "code",
   "execution_count": 12,
   "metadata": {},
   "outputs": [
    {
     "name": "stdout",
     "output_type": "stream",
     "text": [
      "Fall 3\n"
     ]
    }
   ],
   "source": [
    "int zahl = 3;\n",
    "\n",
    "switch (zahl) {\n",
    "    case 1:\n",
    "        System.out.println(\"Fall 1\");\n",
    "        break;\n",
    "    case 2:\n",
    "        System.out.println(\"Fall 2\");\n",
    "        break;\n",
    "    case 3:\n",
    "        System.out.println(\"Fall 3\");\n",
    "        break;\n",
    "    default:\n",
    "        System.out.println(\"Sonstiger Fall\");\n",
    "}"
   ]
  },
  {
   "cell_type": "markdown",
   "metadata": {},
   "source": [
    "Im folgenden Beispiel gibt der Benutzer eine Zehnerpotenz als Zahl ein. Für eine korrekte Zehnerpotenz wird der passende Exponent ausgegeben. Für alle anderen Zahlen eine Meldung, dass es keine Zehnerpotenz ist. Durch das entsprechende case Label springt der Programmfluss Dabei an die entsprechende Stelle und der Exponent wird auf addiert."
   ]
  },
  {
   "cell_type": "code",
   "execution_count": 13,
   "metadata": {},
   "outputs": [
    {
     "name": "stdout",
     "output_type": "stream",
     "text": [
      "10000000 = 10^7\n"
     ]
    }
   ],
   "source": [
    "int zahl = 10000000;\n",
    "int exponent = 0; \n",
    "switch (zahl) \n",
    "{ \n",
    "    case 1000000000: ++exponent; \n",
    "    case 100000000: ++exponent; \n",
    "    case 10000000: ++exponent; \n",
    "    case 1000000: ++exponent; \n",
    "    case 100000: ++exponent; \n",
    "    case 10000: ++exponent; \n",
    "    case 1000: ++exponent; \n",
    "    case 100: ++exponent; \n",
    "    case 10: ++exponent; \n",
    "    case 1: System.out.println(zahl + \" = 10^\" + exponent); break;\n",
    " \n",
    "    default: System.out.println(zahl + \" ist keine Zehnerpotenz!\"); \n",
    "}\n",
    "\n"
   ]
  }
 ],
 "metadata": {
  "kernelspec": {
   "display_name": "Java",
   "language": "java",
   "name": "java"
  },
  "language_info": {
   "codemirror_mode": "java",
   "file_extension": ".java",
   "mimetype": "text/x-java-source",
   "name": "Java",
   "pygments_lexer": "java",
   "version": "10.0.2+13"
  }
 },
 "nbformat": 4,
 "nbformat_minor": 2
}
